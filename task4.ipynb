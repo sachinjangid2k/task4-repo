{
 "cells": [
  {
   "cell_type": "code",
   "execution_count": 1,
   "id": "403ed519",
   "metadata": {},
   "outputs": [],
   "source": [
    "import cv2\n",
    "import numpy"
   ]
  },
  {
   "cell_type": "markdown",
   "id": "dee8ee9a",
   "metadata": {},
   "source": [
    "# TASK 4.1: Creating image using python code"
   ]
  },
  {
   "cell_type": "code",
   "execution_count": null,
   "id": "e51cff78",
   "metadata": {},
   "outputs": [],
   "source": [
    "image=numpy.zeros((400,600,3))\n",
    "imagemade=cv2.circle(image,(300,200),100,[245,60,42],4)\n",
    "imagemade=cv2.circle(image,(300,200),120,[245,60,42],4)\n",
    "imagemade=cv2.rectangle(image,(450,100),(550,200),[245,60,42],4)\n",
    "imagemade=cv2.rectangle(image,(50,50),(550,350),[245,60,42],4)\n",
    "imagemade=cv2.rectangle(image,(450,20),(500,50),[245,60,42],4)\n",
    "cv2.imshow(\"circle\", image)\n",
    "cv2.waitKey()\n",
    "cv2.destroyAllWindows()"
   ]
  },
  {
   "cell_type": "markdown",
   "id": "ad959920",
   "metadata": {},
   "source": [
    "# TASK 4.2: Take 2 images crop some part of both the images and swap it."
   ]
  },
  {
   "cell_type": "code",
   "execution_count": null,
   "id": "032045ca",
   "metadata": {},
   "outputs": [],
   "source": [
    "#taking 2 images\n",
    "thor=cv2.imread(\"thor.jpg\")\n",
    "iron=cv2.imread(\"iron man.jpg\")"
   ]
  },
  {
   "cell_type": "code",
   "execution_count": null,
   "id": "4e0be947",
   "metadata": {},
   "outputs": [],
   "source": [
    "#thor crop\n",
    "cthor=thor[100:260,150:300]\n",
    "cv2.imshow(\"thor.jpg\", cthor)\n",
    "cv2.waitKey()\n",
    "cv2.destroyAllWindows()"
   ]
  },
  {
   "cell_type": "code",
   "execution_count": null,
   "id": "3e8ee612",
   "metadata": {},
   "outputs": [],
   "source": [
    "#iron crop\n",
    "ciron=iron[100:260,150:300]\n",
    "cv2.imshow(\"iron.jpg\", ciron)\n",
    "cv2.waitKey()\n",
    "cv2.destroyAllWindows()"
   ]
  },
  {
   "cell_type": "code",
   "execution_count": null,
   "id": "472343ed",
   "metadata": {},
   "outputs": [],
   "source": [
    "#swapping the cropped images\n",
    "crop1=numpy.copy(cthor)\n",
    "crop2=numpy.copy(ciron)\n",
    "thor[100:260,150:300,] = crop2\n",
    "iron[100:260,150:300,] = crop1"
   ]
  },
  {
   "cell_type": "code",
   "execution_count": null,
   "id": "60544464",
   "metadata": {},
   "outputs": [],
   "source": [
    "#showing images 1 after cropping\n",
    "cv2.imshow(\"image1\",thor)\n",
    "cv2.waitKey()\n",
    "cv2.destroyAllWindows()"
   ]
  },
  {
   "cell_type": "code",
   "execution_count": null,
   "id": "97da7813",
   "metadata": {},
   "outputs": [],
   "source": [
    "#showing images 2 after cropping\n",
    "cv2.imshow(\"image1\",iron)\n",
    "cv2.waitKey()\n",
    "cv2.destroyAllWindows()"
   ]
  },
  {
   "cell_type": "markdown",
   "id": "0967f1cc",
   "metadata": {},
   "source": [
    "# TASK 4.3: Making a collage from two images"
   ]
  },
  {
   "cell_type": "code",
   "execution_count": null,
   "id": "16b16552",
   "metadata": {},
   "outputs": [],
   "source": [
    "#combining two images\n",
    "collage=numpy.hstack((thor,iron))"
   ]
  },
  {
   "cell_type": "code",
   "execution_count": null,
   "id": "928152d1",
   "metadata": {},
   "outputs": [],
   "source": [
    "#showing collage\n",
    "cv2.imshow(\"collage\",collage)\n",
    "cv2.waitKey()\n",
    "cv2.destroyAllWindows()"
   ]
  }
 ],
 "metadata": {
  "kernelspec": {
   "display_name": "Python 3",
   "language": "python",
   "name": "python3"
  },
  "language_info": {
   "codemirror_mode": {
    "name": "ipython",
    "version": 3
   },
   "file_extension": ".py",
   "mimetype": "text/x-python",
   "name": "python",
   "nbconvert_exporter": "python",
   "pygments_lexer": "ipython3",
   "version": "3.8.8"
  }
 },
 "nbformat": 4,
 "nbformat_minor": 5
}
